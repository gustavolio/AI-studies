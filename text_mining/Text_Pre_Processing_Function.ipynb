{
  "nbformat": 4,
  "nbformat_minor": 0,
  "metadata": {
    "colab": {
      "provenance": [],
      "authorship_tag": "ABX9TyMwhJrTOI6S1PznzlvOqNBm",
      "include_colab_link": true
    },
    "kernelspec": {
      "name": "python3",
      "display_name": "Python 3"
    },
    "language_info": {
      "name": "python"
    }
  },
  "cells": [
    {
      "cell_type": "markdown",
      "metadata": {
        "id": "view-in-github",
        "colab_type": "text"
      },
      "source": [
        "<a href=\"https://colab.research.google.com/github/gustavolio/AI-studies/blob/main/text_mining/Text_Pre_Processing_Function.ipynb\" target=\"_parent\"><img src=\"https://colab.research.google.com/assets/colab-badge.svg\" alt=\"Open In Colab\"/></a>"
      ]
    },
    {
      "cell_type": "code",
      "execution_count": 2,
      "metadata": {
        "colab": {
          "base_uri": "https://localhost:8080/"
        },
        "id": "dMO7c2Jzr_H9",
        "outputId": "dbf7152e-5d46-4812-ffcc-e2f84145b7ed"
      },
      "outputs": [
        {
          "output_type": "stream",
          "name": "stdout",
          "text": [
            "- Lower case: this is a sample text with some punctuation and stop words. we will preprocess it.\n",
            "- Remove stopwords: ['sample', 'text', 'punctuation', 'stop', 'words.', 'preprocess', 'it.']\n",
            "- Remove pontuaction: ['sample', 'text', 'punctuation', 'stop', 'words', 'preprocess', 'it']\n",
            "- Stemmer: ['sampl', 'text', 'punctuat', 'stop', 'word', 'preprocess', 'it']\n",
            "- Remove less than two ocurrences: []\n",
            "- Remove with length less than two: []\n"
          ]
        },
        {
          "output_type": "stream",
          "name": "stderr",
          "text": [
            "[nltk_data] Downloading package stopwords to /root/nltk_data...\n",
            "[nltk_data]   Package stopwords is already up-to-date!\n"
          ]
        }
      ],
      "source": [
        "import nltk\n",
        "from nltk.corpus import stopwords\n",
        "from nltk.stem import PorterStemmer\n",
        "import string\n",
        "\n",
        "nltk.download('stopwords')\n",
        "\n",
        "def preprocess_text(text):\n",
        "    \"\"\"\n",
        "    Preprocesses text by:\n",
        "    1. Lowercasing\n",
        "    2. Removing stop words\n",
        "    3. Removing punctuation\n",
        "    4. Stemming\n",
        "    5. Removing words with less than 2 occurrences\n",
        "    6. Removing words with length less than 2\n",
        "\n",
        "    Args:\n",
        "        text (str): The input text.\n",
        "\n",
        "    Returns:\n",
        "        str: The preprocessed text.\n",
        "    \"\"\"\n",
        "\n",
        "    # Lowercase the text\n",
        "    text = text.lower()\n",
        "\n",
        "    # Remove stop words\n",
        "    stop_words = set(stopwords.words('english'))\n",
        "    words = [word for word in text.split() if word not in stop_words]\n",
        "\n",
        "    # Remove punctuation\n",
        "    words = [word.translate(str.maketrans('', '', string.punctuation)) for word in words]\n",
        "\n",
        "    # Stem the words\n",
        "    stemmer = PorterStemmer()\n",
        "    words = [stemmer.stem(word) for word in words]\n",
        "\n",
        "    # Remove words with less than 2 occurrences\n",
        "    word_counts = {word: words.count(word) for word in words}\n",
        "    words = [word for word in words if word_counts[word] >= 2]\n",
        "\n",
        "    # Remove words with length less than 2\n",
        "    words = [word for word in words if len(word) >= 2]\n",
        "\n",
        "    return ' '.join(words)\n",
        "\n",
        "# Example usage\n",
        "text = \"This is a sample text with some punctuation and stop words. We will preprocess it.\"\n",
        "preprocessed_text = preprocess_text(text)"
      ]
    }
  ]
}