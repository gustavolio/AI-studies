{
  "nbformat": 4,
  "nbformat_minor": 0,
  "metadata": {
    "colab": {
      "provenance": []
    },
    "kernelspec": {
      "name": "python3",
      "display_name": "Python 3"
    },
    "accelerator": "GPU"
  },
  "cells": [
    {
      "cell_type": "markdown",
      "metadata": {
        "id": "93nOAMLOe6_d"
      },
      "source": [
        "# Exemplo de Word2Vec com modelo pré-treinado\n",
        "* Exemplo adaptado de https://colab.research.google.com/drive/1zuq1I_FudtB2W4OSOWff8ODqfqK8d9-G\n",
        "\n"
      ]
    },
    {
      "cell_type": "markdown",
      "metadata": {
        "id": "m6ztl7jugHQz"
      },
      "source": [
        "# Download do modelo pré-treinado (~1.5 gb)"
      ]
    },
    {
      "cell_type": "code",
      "metadata": {
        "id": "4BSSDJ8hYfDC"
      },
      "source": [
        "import numpy as np"
      ],
      "execution_count": null,
      "outputs": []
    },
    {
      "cell_type": "code",
      "metadata": {
        "id": "qYZ09121e4CO",
        "outputId": "b953501b-059e-415d-b831-ad2f622bb155",
        "colab": {
          "base_uri": "https://localhost:8080/",
          "height": 208
        }
      },
      "source": [
        "!wget -P /root/input/ -c \"https://s3.amazonaws.com/dl4j-distribution/GoogleNews-vectors-negative300.bin.gz\""
      ],
      "execution_count": null,
      "outputs": [
        {
          "output_type": "stream",
          "text": [
            "--2020-08-27 14:50:20--  https://s3.amazonaws.com/dl4j-distribution/GoogleNews-vectors-negative300.bin.gz\n",
            "Resolving s3.amazonaws.com (s3.amazonaws.com)... 52.216.233.157\n",
            "Connecting to s3.amazonaws.com (s3.amazonaws.com)|52.216.233.157|:443... connected.\n",
            "HTTP request sent, awaiting response... 200 OK\n",
            "Length: 1647046227 (1.5G) [application/x-gzip]\n",
            "Saving to: ‘/root/input/GoogleNews-vectors-negative300.bin.gz’\n",
            "\n",
            "GoogleNews-vectors- 100%[===================>]   1.53G  16.1MB/s    in 1m 42s  \n",
            "\n",
            "2020-08-27 14:52:03 (15.3 MB/s) - ‘/root/input/GoogleNews-vectors-negative300.bin.gz’ saved [1647046227/1647046227]\n",
            "\n"
          ],
          "name": "stdout"
        }
      ]
    },
    {
      "cell_type": "markdown",
      "metadata": {
        "id": "kkhN5vXJgLN5"
      },
      "source": [
        "# Instalando a biblioteca \"gensim\" para manipular word vectors"
      ]
    },
    {
      "cell_type": "code",
      "metadata": {
        "id": "zAGXYqxLgGVB",
        "outputId": "5fcb6d95-2011-48a5-db21-d4aabb136381",
        "colab": {
          "base_uri": "https://localhost:8080/",
          "height": 332
        }
      },
      "source": [
        "!pip install gensim\n",
        "from gensim.models import KeyedVectors"
      ],
      "execution_count": null,
      "outputs": [
        {
          "output_type": "stream",
          "text": [
            "Requirement already satisfied: gensim in /usr/local/lib/python3.6/dist-packages (3.6.0)\n",
            "Requirement already satisfied: smart-open>=1.2.1 in /usr/local/lib/python3.6/dist-packages (from gensim) (2.1.0)\n",
            "Requirement already satisfied: scipy>=0.18.1 in /usr/local/lib/python3.6/dist-packages (from gensim) (1.4.1)\n",
            "Requirement already satisfied: numpy>=1.11.3 in /usr/local/lib/python3.6/dist-packages (from gensim) (1.18.5)\n",
            "Requirement already satisfied: six>=1.5.0 in /usr/local/lib/python3.6/dist-packages (from gensim) (1.15.0)\n",
            "Requirement already satisfied: boto3 in /usr/local/lib/python3.6/dist-packages (from smart-open>=1.2.1->gensim) (1.14.47)\n",
            "Requirement already satisfied: boto in /usr/local/lib/python3.6/dist-packages (from smart-open>=1.2.1->gensim) (2.49.0)\n",
            "Requirement already satisfied: requests in /usr/local/lib/python3.6/dist-packages (from smart-open>=1.2.1->gensim) (2.23.0)\n",
            "Requirement already satisfied: botocore<1.18.0,>=1.17.47 in /usr/local/lib/python3.6/dist-packages (from boto3->smart-open>=1.2.1->gensim) (1.17.47)\n",
            "Requirement already satisfied: s3transfer<0.4.0,>=0.3.0 in /usr/local/lib/python3.6/dist-packages (from boto3->smart-open>=1.2.1->gensim) (0.3.3)\n",
            "Requirement already satisfied: jmespath<1.0.0,>=0.7.1 in /usr/local/lib/python3.6/dist-packages (from boto3->smart-open>=1.2.1->gensim) (0.10.0)\n",
            "Requirement already satisfied: urllib3!=1.25.0,!=1.25.1,<1.26,>=1.21.1 in /usr/local/lib/python3.6/dist-packages (from requests->smart-open>=1.2.1->gensim) (1.24.3)\n",
            "Requirement already satisfied: chardet<4,>=3.0.2 in /usr/local/lib/python3.6/dist-packages (from requests->smart-open>=1.2.1->gensim) (3.0.4)\n",
            "Requirement already satisfied: certifi>=2017.4.17 in /usr/local/lib/python3.6/dist-packages (from requests->smart-open>=1.2.1->gensim) (2020.6.20)\n",
            "Requirement already satisfied: idna<3,>=2.5 in /usr/local/lib/python3.6/dist-packages (from requests->smart-open>=1.2.1->gensim) (2.10)\n",
            "Requirement already satisfied: python-dateutil<3.0.0,>=2.1 in /usr/local/lib/python3.6/dist-packages (from botocore<1.18.0,>=1.17.47->boto3->smart-open>=1.2.1->gensim) (2.8.1)\n",
            "Requirement already satisfied: docutils<0.16,>=0.10 in /usr/local/lib/python3.6/dist-packages (from botocore<1.18.0,>=1.17.47->boto3->smart-open>=1.2.1->gensim) (0.15.2)\n"
          ],
          "name": "stdout"
        }
      ]
    },
    {
      "cell_type": "markdown",
      "metadata": {
        "id": "SIZBB_RLyXfF"
      },
      "source": [
        "# Carregando o modelo pré-treinado"
      ]
    },
    {
      "cell_type": "code",
      "metadata": {
        "id": "Ym8M2wjkf2_e",
        "outputId": "62236e96-1155-467e-88e0-e9662965eccf",
        "colab": {
          "base_uri": "https://localhost:8080/",
          "height": 72
        }
      },
      "source": [
        "EMBEDDING_FILE = '/root/input/GoogleNews-vectors-negative300.bin.gz' # from above\n",
        "word2vec = KeyedVectors.load_word2vec_format(EMBEDDING_FILE, binary=True)"
      ],
      "execution_count": null,
      "outputs": [
        {
          "output_type": "stream",
          "text": [
            "/usr/local/lib/python3.6/dist-packages/smart_open/smart_open_lib.py:254: UserWarning: This function is deprecated, use smart_open.open instead. See the migration notes for details: https://github.com/RaRe-Technologies/smart_open/blob/master/README.rst#migrating-to-the-new-open-function\n",
            "  'See the migration notes for details: %s' % _MIGRATION_NOTES_URL\n"
          ],
          "name": "stderr"
        }
      ]
    },
    {
      "cell_type": "code",
      "metadata": {
        "id": "eLAVZuBfgaYh",
        "outputId": "024e92c1-bfe2-4c78-d63d-3c6fadf1ddad",
        "colab": {
          "base_uri": "https://localhost:8080/",
          "height": 35
        }
      },
      "source": [
        "word2vec[\"smartphone\"].shape"
      ],
      "execution_count": null,
      "outputs": [
        {
          "output_type": "execute_result",
          "data": {
            "text/plain": [
              "(300,)"
            ]
          },
          "metadata": {
            "tags": []
          },
          "execution_count": 7
        }
      ]
    },
    {
      "cell_type": "code",
      "metadata": {
        "id": "WPLtIlHmayaK",
        "outputId": "d7f0e93b-8273-479d-d7d1-433d7dc651b8",
        "colab": {
          "base_uri": "https://localhost:8080/",
          "height": 1000
        }
      },
      "source": [
        "word2vec[\"smartphone\"]"
      ],
      "execution_count": null,
      "outputs": [
        {
          "output_type": "execute_result",
          "data": {
            "text/plain": [
              "array([ 1.37695312e-01, -3.14453125e-01, -4.72656250e-01,  7.66601562e-02,\n",
              "       -3.63281250e-01,  5.98144531e-02,  1.36718750e-01,  9.42382812e-02,\n",
              "        2.79296875e-01, -1.03027344e-01, -1.91406250e-01,  1.39648438e-01,\n",
              "        2.16796875e-01, -9.61914062e-02,  2.23632812e-01,  5.46264648e-03,\n",
              "        2.10937500e-01,  1.25976562e-01, -7.95898438e-02, -2.20703125e-01,\n",
              "        8.64257812e-02, -1.16210938e-01,  1.26953125e-02, -3.45703125e-01,\n",
              "        6.73828125e-02,  2.59765625e-01, -1.10351562e-01,  2.98828125e-01,\n",
              "        2.38281250e-01,  1.78222656e-02, -2.11914062e-01,  1.91406250e-01,\n",
              "        4.12597656e-02,  2.67578125e-01, -1.11816406e-01, -2.39257812e-01,\n",
              "       -9.61914062e-02, -5.83496094e-02,  2.51953125e-01,  2.20703125e-01,\n",
              "       -7.61718750e-02, -7.27539062e-02,  2.12402344e-02,  1.58203125e-01,\n",
              "        1.83105469e-02, -3.56445312e-02, -8.23974609e-03, -3.83300781e-02,\n",
              "        1.85546875e-01, -2.59765625e-01, -6.68945312e-02,  3.51562500e-02,\n",
              "       -2.26562500e-01, -1.50756836e-02, -8.36181641e-03,  4.06250000e-01,\n",
              "       -1.89208984e-02,  1.01074219e-01,  4.34570312e-02,  9.13085938e-02,\n",
              "        1.45874023e-02,  2.06298828e-02, -2.61718750e-01,  2.31445312e-01,\n",
              "       -2.85156250e-01,  2.00195312e-01, -1.12792969e-01,  2.50000000e-01,\n",
              "       -8.05664062e-02,  5.10253906e-02, -8.49609375e-02, -1.66015625e-01,\n",
              "        1.59179688e-01,  1.36718750e-01, -2.59765625e-01, -2.53906250e-01,\n",
              "       -1.46484375e-01,  6.83593750e-02, -5.54199219e-02, -1.57226562e-01,\n",
              "       -1.05957031e-01,  1.98242188e-01,  1.73339844e-02,  1.75781250e-01,\n",
              "       -3.00292969e-02, -2.08984375e-01,  1.82617188e-01,  2.98828125e-01,\n",
              "       -2.81250000e-01,  2.75390625e-01, -1.31835938e-01, -4.25781250e-01,\n",
              "       -7.81250000e-02, -2.38281250e-01,  1.06445312e-01, -1.97265625e-01,\n",
              "       -1.29882812e-01,  2.14843750e-01,  4.57031250e-01,  6.03027344e-02,\n",
              "       -8.00781250e-02, -3.90625000e-01, -2.00195312e-02,  3.53515625e-01,\n",
              "        4.85839844e-02,  5.12695312e-02, -1.36718750e-01, -1.53808594e-02,\n",
              "        2.71484375e-01,  1.99218750e-01, -1.68945312e-01, -4.94384766e-03,\n",
              "       -4.19921875e-02,  1.50390625e-01, -5.66406250e-02,  3.12500000e-02,\n",
              "       -2.12890625e-01, -4.82421875e-01,  1.80664062e-01,  3.41796875e-02,\n",
              "       -3.22265625e-01, -1.54296875e-01, -3.28125000e-01,  2.16064453e-02,\n",
              "        5.23437500e-01,  7.27539062e-02, -1.55273438e-01, -1.06445312e-01,\n",
              "       -3.41796875e-01, -2.53906250e-02, -8.78906250e-02, -4.41894531e-02,\n",
              "       -1.32812500e-01, -3.11279297e-02, -4.98046875e-02,  8.00781250e-02,\n",
              "        1.85546875e-01,  1.54296875e-01, -1.17675781e-01, -1.88476562e-01,\n",
              "       -2.63671875e-02, -1.84326172e-02, -9.52148438e-02,  9.71679688e-02,\n",
              "        5.17578125e-02, -7.91015625e-02,  4.02343750e-01,  4.66308594e-02,\n",
              "       -4.41406250e-01, -4.14062500e-01,  9.13085938e-02, -2.55859375e-01,\n",
              "       -2.19726562e-01,  5.29785156e-02,  5.46875000e-02, -3.71093750e-02,\n",
              "       -6.54296875e-02, -3.28125000e-01, -5.39550781e-02,  7.71484375e-02,\n",
              "       -3.37890625e-01, -2.51953125e-01, -5.66406250e-02, -2.02148438e-01,\n",
              "       -1.79687500e-01, -5.05371094e-02, -1.28906250e-01, -6.83593750e-03,\n",
              "       -2.67578125e-01, -2.42187500e-01, -7.37304688e-02, -1.84570312e-01,\n",
              "       -1.70898438e-01, -2.73437500e-01, -5.15625000e-01, -8.59375000e-02,\n",
              "        4.86328125e-01, -5.39550781e-02, -2.10937500e-01, -3.24218750e-01,\n",
              "       -2.98828125e-01, -1.81640625e-01, -2.67578125e-01, -1.79687500e-01,\n",
              "        2.57812500e-01, -4.80957031e-02,  1.53320312e-01,  1.96289062e-01,\n",
              "       -1.05957031e-01, -4.63867188e-02,  2.52685547e-02, -1.51367188e-01,\n",
              "       -3.92578125e-01, -7.51953125e-02, -1.04003906e-01,  3.41796875e-01,\n",
              "       -2.16796875e-01,  1.34765625e-01, -8.15429688e-02, -9.03320312e-02,\n",
              "       -1.38671875e-01, -1.23535156e-01, -1.31835938e-01,  2.08984375e-01,\n",
              "        9.21630859e-03,  1.13769531e-01, -6.03027344e-02, -2.05078125e-01,\n",
              "       -2.43164062e-01, -1.59179688e-01,  6.64062500e-02,  4.17968750e-01,\n",
              "       -5.07812500e-02, -1.29882812e-01, -3.08593750e-01,  1.25976562e-01,\n",
              "       -1.92382812e-01, -1.99218750e-01, -2.28515625e-01,  7.86132812e-02,\n",
              "       -1.09375000e-01,  3.26171875e-01,  1.86767578e-02,  1.53320312e-01,\n",
              "       -2.34375000e-01, -1.81884766e-02, -1.62109375e-01, -2.55584717e-04,\n",
              "        1.73828125e-01, -6.59179688e-02, -3.71093750e-01, -2.04101562e-01,\n",
              "       -5.41992188e-02, -6.34765625e-02,  3.47656250e-01, -2.99072266e-02,\n",
              "       -1.38671875e-01, -2.60009766e-02,  1.95312500e-02,  8.10546875e-02,\n",
              "        3.45703125e-01, -1.26953125e-01, -8.64257812e-02, -3.65234375e-01,\n",
              "       -7.95898438e-02, -3.80859375e-01,  4.10156250e-02, -9.21630859e-03,\n",
              "       -9.76562500e-02, -5.46875000e-02, -2.25585938e-01, -4.76074219e-03,\n",
              "        2.99072266e-02,  1.25000000e-01,  2.07031250e-01, -1.22070312e-02,\n",
              "        1.90429688e-02, -4.27734375e-01, -4.57031250e-01,  3.70025635e-04,\n",
              "        2.89062500e-01, -1.19628906e-01,  1.10839844e-01,  1.03027344e-01,\n",
              "       -5.68847656e-02,  1.78710938e-01, -2.03125000e-01, -2.42187500e-01,\n",
              "       -1.97265625e-01, -1.39648438e-01,  9.86328125e-02,  1.39648438e-01,\n",
              "       -6.34765625e-02, -5.85937500e-02,  8.30078125e-02, -3.14453125e-01,\n",
              "        4.66796875e-01, -9.21630859e-03, -2.09960938e-02,  2.28515625e-01,\n",
              "        1.34765625e-01,  1.54296875e-01, -1.28906250e-01,  2.11914062e-01,\n",
              "       -3.33984375e-01, -1.28906250e-01, -1.15722656e-01,  2.46093750e-01,\n",
              "        2.02148438e-01,  1.93359375e-01,  2.03857422e-02,  2.13623047e-02,\n",
              "       -1.26953125e-01, -2.61718750e-01,  1.79687500e-01,  1.96533203e-02,\n",
              "       -1.77001953e-02,  1.46484375e-01, -9.08203125e-02,  1.27929688e-01],\n",
              "      dtype=float32)"
            ]
          },
          "metadata": {
            "tags": []
          },
          "execution_count": 8
        }
      ]
    },
    {
      "cell_type": "markdown",
      "metadata": {
        "id": "atsN5Kx7ykkx"
      },
      "source": [
        "# Vamos usar a similaridade de cosseno para calcular a proximidade entre palavras"
      ]
    },
    {
      "cell_type": "markdown",
      "metadata": {
        "id": "hvn4RpfEin7s"
      },
      "source": [
        "Recall that $\\text{cos}(a,b) = \\frac{a \\cdot b}{||a|| \\cdot  ||b||}$"
      ]
    },
    {
      "cell_type": "code",
      "metadata": {
        "id": "JMqYExDNhqsA"
      },
      "source": [
        "import numpy as np\n",
        "\n",
        "def cos(x1, x2):\n",
        "  return np.dot(x1, x2)/(np.linalg.norm(x1)*np.linalg.norm(x2))"
      ],
      "execution_count": null,
      "outputs": []
    },
    {
      "cell_type": "markdown",
      "metadata": {
        "id": "nh9U-2R5yvg0"
      },
      "source": [
        "# Testando similaridades..."
      ]
    },
    {
      "cell_type": "code",
      "metadata": {
        "id": "edQSGcAIh7oh",
        "outputId": "a84fe23b-6158-4394-cc94-94324aab3c26",
        "colab": {
          "base_uri": "https://localhost:8080/",
          "height": 35
        }
      },
      "source": [
        "cos(word2vec[\"smartphone\"], word2vec[\"telephone\"])"
      ],
      "execution_count": null,
      "outputs": [
        {
          "output_type": "execute_result",
          "data": {
            "text/plain": [
              "0.13366508"
            ]
          },
          "metadata": {
            "tags": []
          },
          "execution_count": 8
        }
      ]
    },
    {
      "cell_type": "markdown",
      "metadata": {
        "id": "qo0-018_0PRG"
      },
      "source": [
        "# Similaridade de Textos com Word Mover Distance"
      ]
    },
    {
      "cell_type": "code",
      "metadata": {
        "id": "Xr9yqLlH0SNN",
        "outputId": "4dc8607e-e104-4dce-e566-686bb400ef20",
        "colab": {
          "base_uri": "https://localhost:8080/",
          "height": 69
        }
      },
      "source": [
        "from nltk.corpus import stopwords\n",
        "from nltk import download\n",
        "download('stopwords')  # Download stopwords list.\n",
        "stop_words = stopwords.words('english')\n",
        "\n",
        "def preprocess(sentence):\n",
        "    return [w for w in sentence.lower().split() if w not in stop_words]\n",
        "\n",
        "\n",
        "sentence_obama = 'Obama speaks to the media in Illinois'\n",
        "sentence_president = 'The president greets the press in Chicago'\n",
        "\n",
        "sentence_obama = preprocess(sentence_obama)\n",
        "sentence_president = preprocess(sentence_president)\n",
        "\n",
        "\n",
        "distance = word2vec.wmdistance(sentence_obama, sentence_president)\n",
        "print('distance = %.4f' % distance)"
      ],
      "execution_count": null,
      "outputs": [
        {
          "output_type": "stream",
          "text": [
            "[nltk_data] Downloading package stopwords to /root/nltk_data...\n",
            "[nltk_data]   Package stopwords is already up-to-date!\n",
            "distance = 3.3741\n"
          ],
          "name": "stdout"
        }
      ]
    },
    {
      "cell_type": "code",
      "metadata": {
        "id": "XSggMX9u0h-e",
        "outputId": "cfa54292-6723-4481-a952-9c626407e69a",
        "colab": {
          "base_uri": "https://localhost:8080/",
          "height": 35
        }
      },
      "source": [
        "sentence_orange = preprocess('Oranges are my favorite fruit')\n",
        "distance = word2vec.wmdistance(sentence_obama, sentence_orange)\n",
        "print('distance = %.4f' % distance)\n"
      ],
      "execution_count": null,
      "outputs": [
        {
          "output_type": "stream",
          "text": [
            "distance = 4.3802\n"
          ],
          "name": "stdout"
        }
      ]
    }
  ]
}